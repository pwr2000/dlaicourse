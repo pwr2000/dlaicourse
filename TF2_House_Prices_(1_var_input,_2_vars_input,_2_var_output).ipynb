{
  "nbformat": 4,
  "nbformat_minor": 0,
  "metadata": {
    "colab": {
      "name": "TF2_House Prices (1-var input, 2-vars input, 2-var output).ipynb",
      "version": "0.3.2",
      "provenance": [],
      "collapsed_sections": [],
      "include_colab_link": true
    },
    "kernelspec": {
      "name": "python3",
      "display_name": "Python 3"
    }
  },
  "cells": [
    {
      "cell_type": "markdown",
      "metadata": {
        "id": "view-in-github",
        "colab_type": "text"
      },
      "source": [
        "<a href=\"https://colab.research.google.com/github/pwr2000/dlaicourse/blob/master/TF2_House_Prices_(1_var_input%2C_2_vars_input%2C_2_var_output).ipynb\" target=\"_parent\"><img src=\"https://colab.research.google.com/assets/colab-badge.svg\" alt=\"Open In Colab\"/></a>"
      ]
    },
    {
      "metadata": {
        "id": "02QrlR5UjUEB",
        "colab_type": "text"
      },
      "cell_type": "markdown",
      "source": [
        "In this exercise you'll try to build a neural network that predicts the price of a house according to a simple formula.\n",
        "\n",
        "So, imagine if house pricing was as easy as a house costs 50k + 50k per bedroom, so that a 1 bedroom house costs 100k, a 2 bedroom house costs 150k etc.\n",
        "\n",
        "How would you create a neural network that learns this relationship so that it would predict a 7 bedroom house as costing close to 400k etc.\n",
        "\n",
        "Hint: Your network might work better if you scale the house price down. You don't have to give the answer 400...it might be better to create something that predicts the number 4, and then your answer is in the 'hundreds of thousands' etc."
      ]
    },
    {
      "metadata": {
        "id": "rkQUM5bcjpj8",
        "colab_type": "code",
        "colab": {}
      },
      "cell_type": "code",
      "source": [
        "!pip install tensorflow-gpu==2.0.0-alpha0 "
      ],
      "execution_count": 0,
      "outputs": []
    },
    {
      "metadata": {
        "id": "EBWsgLRCjVcW",
        "colab_type": "code",
        "colab": {}
      },
      "cell_type": "code",
      "source": [
        "import tensorflow as tf\n",
        "import numpy as np\n",
        "from tensorflow import keras"
      ],
      "execution_count": 0,
      "outputs": []
    },
    {
      "metadata": {
        "id": "JUjy_k3yjggk",
        "colab_type": "code",
        "colab": {
          "base_uri": "https://localhost:8080/",
          "height": 51
        },
        "outputId": "5333cb08-4837-4f06-d3a8-d0d2ac1a25e8"
      },
      "cell_type": "code",
      "source": [
        "print(tf.__version__)\n",
        "print(keras.__version__)"
      ],
      "execution_count": 2,
      "outputs": [
        {
          "output_type": "stream",
          "text": [
            "2.0.0-alpha0\n",
            "2.2.4-tf\n"
          ],
          "name": "stdout"
        }
      ]
    },
    {
      "metadata": {
        "id": "536OhIaulv9d",
        "colab_type": "text"
      },
      "cell_type": "markdown",
      "source": [
        "**One Variable Input Data**"
      ]
    },
    {
      "metadata": {
        "id": "zuQkLuNwjmNy",
        "colab_type": "code",
        "colab": {}
      },
      "cell_type": "code",
      "source": [
        "xs = np.array([1.0, 2.0, 3.0, 4.0, 5.0])\n",
        "ys = np.array([100.0, 150.0, 200.0, 250.0, 300.0])"
      ],
      "execution_count": 0,
      "outputs": []
    },
    {
      "metadata": {
        "id": "bnRvYT14mynS",
        "colab_type": "code",
        "colab": {
          "base_uri": "https://localhost:8080/",
          "height": 34
        },
        "outputId": "630033b1-86dd-4faf-cae3-4e42de0412d7"
      },
      "cell_type": "code",
      "source": [
        "xs.shape"
      ],
      "execution_count": 18,
      "outputs": [
        {
          "output_type": "execute_result",
          "data": {
            "text/plain": [
              "(5,)"
            ]
          },
          "metadata": {
            "tags": []
          },
          "execution_count": 18
        }
      ]
    },
    {
      "metadata": {
        "id": "2lqzwPPWk980",
        "colab_type": "code",
        "colab": {}
      },
      "cell_type": "code",
      "source": [
        "from tensorflow.keras import Sequential\n",
        "from tensorflow.keras.layers import Dense"
      ],
      "execution_count": 0,
      "outputs": []
    },
    {
      "metadata": {
        "id": "3yLDWp-_k6eQ",
        "colab_type": "code",
        "colab": {}
      },
      "cell_type": "code",
      "source": [
        "model = keras.Sequential()\n",
        "model.add(Dense(1, input_shape=[1]))"
      ],
      "execution_count": 0,
      "outputs": []
    },
    {
      "metadata": {
        "id": "gMxbo_9olJ-O",
        "colab_type": "code",
        "colab": {}
      },
      "cell_type": "code",
      "source": [
        "model.compile(optimizer='sgd', loss='mean_squared_error')"
      ],
      "execution_count": 0,
      "outputs": []
    },
    {
      "metadata": {
        "id": "7FlJ53Y9okvz",
        "colab_type": "code",
        "colab": {
          "base_uri": "https://localhost:8080/",
          "height": 187
        },
        "outputId": "debfcabb-05ce-43ac-93a8-8e7b67c17f50"
      },
      "cell_type": "code",
      "source": [
        "model.summary()"
      ],
      "execution_count": 30,
      "outputs": [
        {
          "output_type": "stream",
          "text": [
            "Model: \"sequential_6\"\n",
            "_________________________________________________________________\n",
            "Layer (type)                 Output Shape              Param #   \n",
            "=================================================================\n",
            "dense_5 (Dense)              (None, 1)                 2         \n",
            "=================================================================\n",
            "Total params: 2\n",
            "Trainable params: 2\n",
            "Non-trainable params: 0\n",
            "_________________________________________________________________\n"
          ],
          "name": "stdout"
        }
      ]
    },
    {
      "metadata": {
        "id": "zIHBkaKyljJh",
        "colab_type": "code",
        "colab": {
          "base_uri": "https://localhost:8080/",
          "height": 204
        },
        "outputId": "f8034633-5220-4b46-bbfb-6cf0e2165556"
      },
      "cell_type": "code",
      "source": [
        "model.fit(xs, ys, epochs=5)"
      ],
      "execution_count": 76,
      "outputs": [
        {
          "output_type": "stream",
          "text": [
            "Epoch 1/5\n",
            "5/5 [==============================] - 0s 519us/sample - loss: 181.9365\n",
            "Epoch 2/5\n",
            "5/5 [==============================] - 0s 907us/sample - loss: 181.6701\n",
            "Epoch 3/5\n",
            "5/5 [==============================] - 0s 343us/sample - loss: 181.4104\n",
            "Epoch 4/5\n",
            "5/5 [==============================] - 0s 253us/sample - loss: 181.1573\n",
            "Epoch 5/5\n",
            "5/5 [==============================] - 0s 610us/sample - loss: 180.9105\n"
          ],
          "name": "stdout"
        },
        {
          "output_type": "execute_result",
          "data": {
            "text/plain": [
              "<tensorflow.python.keras.callbacks.History at 0x7f394ab4e630>"
            ]
          },
          "metadata": {
            "tags": []
          },
          "execution_count": 76
        }
      ]
    },
    {
      "metadata": {
        "id": "qLd-kWe8ll0o",
        "colab_type": "code",
        "colab": {
          "base_uri": "https://localhost:8080/",
          "height": 34
        },
        "outputId": "626b1034-2631-42d9-b0e7-b2d8c5cee506"
      },
      "cell_type": "code",
      "source": [
        "print(model.predict([7.0]))"
      ],
      "execution_count": 12,
      "outputs": [
        {
          "output_type": "stream",
          "text": [
            "[[425.70435]]\n"
          ],
          "name": "stdout"
        }
      ]
    },
    {
      "metadata": {
        "id": "qWawT5kGl1Hn",
        "colab_type": "text"
      },
      "cell_type": "markdown",
      "source": [
        "**Two Variable Input Data**"
      ]
    },
    {
      "metadata": {
        "id": "NHXQYAd4lqAY",
        "colab_type": "code",
        "colab": {}
      },
      "cell_type": "code",
      "source": [
        "x1 = np.array([[1.0, 0.1], [1.5, 0.3], [2.0, 0.5], [2.5, 0.7]])\n",
        "y1 = np.array([100.0, 200.0, 300.0, 400.0])"
      ],
      "execution_count": 0,
      "outputs": []
    },
    {
      "metadata": {
        "id": "2rQEZQeMo1jw",
        "colab_type": "code",
        "colab": {
          "base_uri": "https://localhost:8080/",
          "height": 34
        },
        "outputId": "c3114c3e-f4ae-493f-ae62-4e73cd3d737b"
      },
      "cell_type": "code",
      "source": [
        "x1.shape"
      ],
      "execution_count": 32,
      "outputs": [
        {
          "output_type": "execute_result",
          "data": {
            "text/plain": [
              "(4, 2)"
            ]
          },
          "metadata": {
            "tags": []
          },
          "execution_count": 32
        }
      ]
    },
    {
      "metadata": {
        "id": "0lMlSoL5mWJx",
        "colab_type": "code",
        "colab": {}
      },
      "cell_type": "code",
      "source": [
        "model1 = Sequential()\n",
        "# model1.add(Dense(1, input_shape=[2]))\n",
        "#model1.add(Dense(1, input_dim=2))       #both lines are equivalent\n",
        "model1.add(Dense(1, input_shape=(2,)))   #https://keras.io/getting-started/sequential-model-guide/#specifying-the-input-shape"
      ],
      "execution_count": 0,
      "outputs": []
    },
    {
      "metadata": {
        "id": "3aIWkIuLmegX",
        "colab_type": "code",
        "colab": {}
      },
      "cell_type": "code",
      "source": [
        "model1.compile(optimizer='sgd', loss='mean_squared_error')"
      ],
      "execution_count": 0,
      "outputs": []
    },
    {
      "metadata": {
        "id": "d0XjQ24mo0dD",
        "colab_type": "code",
        "colab": {
          "base_uri": "https://localhost:8080/",
          "height": 187
        },
        "outputId": "16adab42-46fd-47d2-c826-0da78b01d658"
      },
      "cell_type": "code",
      "source": [
        "model1.summary()"
      ],
      "execution_count": 82,
      "outputs": [
        {
          "output_type": "stream",
          "text": [
            "Model: \"sequential_15\"\n",
            "_________________________________________________________________\n",
            "Layer (type)                 Output Shape              Param #   \n",
            "=================================================================\n",
            "dense_14 (Dense)             (None, 1)                 3         \n",
            "=================================================================\n",
            "Total params: 3\n",
            "Trainable params: 3\n",
            "Non-trainable params: 0\n",
            "_________________________________________________________________\n"
          ],
          "name": "stdout"
        }
      ]
    },
    {
      "metadata": {
        "id": "yEGV94_0mpaC",
        "colab_type": "code",
        "colab": {
          "base_uri": "https://localhost:8080/",
          "height": 204
        },
        "outputId": "067a1801-8315-4796-a463-0482ff346e65"
      },
      "cell_type": "code",
      "source": [
        "model1.fit(x1, y1, epochs=5)"
      ],
      "execution_count": 83,
      "outputs": [
        {
          "output_type": "stream",
          "text": [
            "Epoch 1/5\n",
            "4/4 [==============================] - 0s 12ms/sample - loss: 76204.5078\n",
            "Epoch 2/5\n",
            "4/4 [==============================] - 0s 1ms/sample - loss: 74876.5234\n",
            "Epoch 3/5\n",
            "4/4 [==============================] - 0s 479us/sample - loss: 73572.3125\n",
            "Epoch 4/5\n",
            "4/4 [==============================] - 0s 787us/sample - loss: 72291.4453\n",
            "Epoch 5/5\n",
            "4/4 [==============================] - 0s 851us/sample - loss: 71033.5078\n"
          ],
          "name": "stdout"
        },
        {
          "output_type": "execute_result",
          "data": {
            "text/plain": [
              "<tensorflow.python.keras.callbacks.History at 0x7f3947a34c88>"
            ]
          },
          "metadata": {
            "tags": []
          },
          "execution_count": 83
        }
      ]
    },
    {
      "metadata": {
        "id": "YgW8onazpGUL",
        "colab_type": "code",
        "colab": {
          "base_uri": "https://localhost:8080/",
          "height": 34
        },
        "outputId": "c8534077-c56e-4dfd-fa06-1e32146ab475"
      },
      "cell_type": "code",
      "source": [
        "x_test = np.array([[5.0, 0.8]])\n",
        "x_test\n",
        "x_test.shape"
      ],
      "execution_count": 84,
      "outputs": [
        {
          "output_type": "execute_result",
          "data": {
            "text/plain": [
              "(1, 2)"
            ]
          },
          "metadata": {
            "tags": []
          },
          "execution_count": 84
        }
      ]
    },
    {
      "metadata": {
        "id": "DvtKsayXpic-",
        "colab_type": "code",
        "colab": {
          "base_uri": "https://localhost:8080/",
          "height": 34
        },
        "outputId": "0b3cee17-b530-4dee-de96-1051bee6b6c4"
      },
      "cell_type": "code",
      "source": [
        "print(model1.predict(x_test))"
      ],
      "execution_count": 85,
      "outputs": [
        {
          "output_type": "stream",
          "text": [
            "[[22.17872]]\n"
          ],
          "name": "stdout"
        }
      ]
    },
    {
      "metadata": {
        "id": "HYeFnQb5p-2J",
        "colab_type": "text"
      },
      "cell_type": "markdown",
      "source": [
        "**2 Var output**"
      ]
    },
    {
      "metadata": {
        "id": "xgdCwrNUpsKs",
        "colab_type": "code",
        "colab": {}
      },
      "cell_type": "code",
      "source": [
        "x2 = np.array([[1.0, -1.0], [2.0, -2.0], [3.0, -3.0], [4.0, -4.0]])\n",
        "y2 = np.array([[3.0, -3.0], [6.0, -6.0], [9.0, -9.0], [12.0, -12.0]])"
      ],
      "execution_count": 0,
      "outputs": []
    },
    {
      "metadata": {
        "id": "1qjd2DDksiBT",
        "colab_type": "code",
        "colab": {}
      },
      "cell_type": "code",
      "source": [
        "model2 = Sequential()\n",
        "model2.add(Dense(2, input_shape=[2]))"
      ],
      "execution_count": 0,
      "outputs": []
    },
    {
      "metadata": {
        "id": "i-9fXsvys4Ku",
        "colab_type": "code",
        "colab": {}
      },
      "cell_type": "code",
      "source": [
        "model2.compile(optimizer='sgd', loss='mean_squared_error')"
      ],
      "execution_count": 0,
      "outputs": []
    },
    {
      "metadata": {
        "id": "Q6HB8Rk3s9HW",
        "colab_type": "code",
        "colab": {
          "base_uri": "https://localhost:8080/",
          "height": 187
        },
        "outputId": "b21cfa42-5de9-40b9-b21d-ec626f6f552a"
      },
      "cell_type": "code",
      "source": [
        "model2.summary()"
      ],
      "execution_count": 89,
      "outputs": [
        {
          "output_type": "stream",
          "text": [
            "Model: \"sequential_16\"\n",
            "_________________________________________________________________\n",
            "Layer (type)                 Output Shape              Param #   \n",
            "=================================================================\n",
            "dense_15 (Dense)             (None, 2)                 6         \n",
            "=================================================================\n",
            "Total params: 6\n",
            "Trainable params: 6\n",
            "Non-trainable params: 0\n",
            "_________________________________________________________________\n"
          ],
          "name": "stdout"
        }
      ]
    },
    {
      "metadata": {
        "id": "Pnodzsrps-a9",
        "colab_type": "code",
        "colab": {
          "base_uri": "https://localhost:8080/",
          "height": 204
        },
        "outputId": "ac9cb413-7e09-4191-cb4b-358512317f90"
      },
      "cell_type": "code",
      "source": [
        "model2.fit(x2, y2, epochs=5)"
      ],
      "execution_count": 97,
      "outputs": [
        {
          "output_type": "stream",
          "text": [
            "Epoch 1/5\n",
            "4/4 [==============================] - 0s 612us/sample - loss: 0.0451\n",
            "Epoch 2/5\n",
            "4/4 [==============================] - 0s 627us/sample - loss: 0.0451\n",
            "Epoch 3/5\n",
            "4/4 [==============================] - 0s 492us/sample - loss: 0.0451\n",
            "Epoch 4/5\n",
            "4/4 [==============================] - 0s 331us/sample - loss: 0.0450\n",
            "Epoch 5/5\n",
            "4/4 [==============================] - 0s 583us/sample - loss: 0.0450\n"
          ],
          "name": "stdout"
        },
        {
          "output_type": "execute_result",
          "data": {
            "text/plain": [
              "<tensorflow.python.keras.callbacks.History at 0x7f393fe23e48>"
            ]
          },
          "metadata": {
            "tags": []
          },
          "execution_count": 97
        }
      ]
    },
    {
      "metadata": {
        "id": "zdb3WPpytRfc",
        "colab_type": "code",
        "colab": {}
      },
      "cell_type": "code",
      "source": [
        "model2_test = np.array([[5.0, -5.0]])"
      ],
      "execution_count": 0,
      "outputs": []
    },
    {
      "metadata": {
        "id": "QEErU0u0tXLp",
        "colab_type": "code",
        "colab": {
          "base_uri": "https://localhost:8080/",
          "height": 34
        },
        "outputId": "3aa9bed9-2fc4-49d7-dcc2-fc29e0a6e93d"
      },
      "cell_type": "code",
      "source": [
        "print(model2.predict(model2_test))"
      ],
      "execution_count": 96,
      "outputs": [
        {
          "output_type": "stream",
          "text": [
            "[[ 14.577065 -14.713379]]\n"
          ],
          "name": "stdout"
        }
      ]
    },
    {
      "metadata": {
        "id": "mXpA15cUtZR5",
        "colab_type": "code",
        "colab": {}
      },
      "cell_type": "code",
      "source": [
        ""
      ],
      "execution_count": 0,
      "outputs": []
    }
  ]
}